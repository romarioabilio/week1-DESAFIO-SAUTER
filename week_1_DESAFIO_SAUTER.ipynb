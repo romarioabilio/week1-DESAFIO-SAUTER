{
  "nbformat": 4,
  "nbformat_minor": 0,
  "metadata": {
    "colab": {
      "provenance": []
    },
    "kernelspec": {
      "name": "python3",
      "display_name": "Python 3"
    },
    "language_info": {
      "name": "python"
    }
  },
  "cells": [
    {
      "cell_type": "markdown",
      "source": [
        "\n",
        "# week 1 - DESAFIO - SAUTER\n",
        "\n",
        "# Nome: Romário Abílio de França\n",
        "\n",
        "# Aplicativo: Instagram\n",
        "# Plataforma: Google Play Store\n"
      ],
      "metadata": {
        "id": "aAjv_xf5rl7g"
      }
    },
    {
      "cell_type": "markdown",
      "source": [
        "# Instalando bibliotecas necessárias para coletar as avaliações do instagram no google play store"
      ],
      "metadata": {
        "id": "giSkRwoPrrnN"
      }
    },
    {
      "cell_type": "code",
      "source": [
        "pip install google-play-scraper pandas\n"
      ],
      "metadata": {
        "colab": {
          "base_uri": "https://localhost:8080/"
        },
        "id": "pwWkXni4pB9B",
        "outputId": "5bc8a570-b104-42f5-8933-b6ebbc6d8d01"
      },
      "execution_count": 2,
      "outputs": [
        {
          "output_type": "stream",
          "name": "stdout",
          "text": [
            "Collecting google-play-scraper\n",
            "  Downloading google_play_scraper-1.2.4-py3-none-any.whl (28 kB)\n",
            "Requirement already satisfied: pandas in /usr/local/lib/python3.10/dist-packages (1.5.3)\n",
            "Requirement already satisfied: python-dateutil>=2.8.1 in /usr/local/lib/python3.10/dist-packages (from pandas) (2.8.2)\n",
            "Requirement already satisfied: pytz>=2020.1 in /usr/local/lib/python3.10/dist-packages (from pandas) (2023.3.post1)\n",
            "Requirement already satisfied: numpy>=1.21.0 in /usr/local/lib/python3.10/dist-packages (from pandas) (1.23.5)\n",
            "Requirement already satisfied: six>=1.5 in /usr/local/lib/python3.10/dist-packages (from python-dateutil>=2.8.1->pandas) (1.16.0)\n",
            "Installing collected packages: google-play-scraper\n",
            "Successfully installed google-play-scraper-1.2.4\n"
          ]
        }
      ]
    },
    {
      "cell_type": "markdown",
      "source": [
        "# Importando bibiotecas necessárias"
      ],
      "metadata": {
        "id": "oBDWVc2rr2vX"
      }
    },
    {
      "cell_type": "code",
      "source": [
        "from google_play_scraper import Sort, reviews\n",
        "import pandas as pd\n",
        "from datetime import datetime"
      ],
      "metadata": {
        "id": "G9nsums6qnrg"
      },
      "execution_count": 3,
      "outputs": []
    },
    {
      "cell_type": "markdown",
      "source": [
        "# Escolhendo id do instagram e limitando a 10000 avaliações"
      ],
      "metadata": {
        "id": "4oULo-av0O--"
      }
    },
    {
      "cell_type": "code",
      "source": [
        "app_id = 'com.instagram.android'  # ID do Instagram na Google Play Store\n",
        "count = 10000  # Definindo número de avaliações para o desafio"
      ],
      "metadata": {
        "id": "nFFWYn74tCt4"
      },
      "execution_count": 31,
      "outputs": []
    },
    {
      "cell_type": "markdown",
      "source": [
        "# Realizando a coleta dos dados"
      ],
      "metadata": {
        "id": "bBwdOgWTvV-E"
      }
    },
    {
      "cell_type": "code",
      "source": [
        "result, _ = reviews(\n",
        "    app_id,\n",
        "    sort=Sort.MOST_RELEVANT,  # Ordenando por relevância as avaliações\n",
        "    count=count\n",
        ")"
      ],
      "metadata": {
        "id": "mC14JKZNtVO6"
      },
      "execution_count": 33,
      "outputs": []
    },
    {
      "cell_type": "markdown",
      "source": [
        "# Transformando os dados brutos obtidos em um DataFrame estruturado"
      ],
      "metadata": {
        "id": "HcKXZtRtx0mk"
      }
    },
    {
      "cell_type": "code",
      "source": [
        "df = pd.DataFrame(result)"
      ],
      "metadata": {
        "id": "wup_hvoVtYgw"
      },
      "execution_count": 34,
      "outputs": []
    },
    {
      "cell_type": "markdown",
      "source": [
        "# Verificando se o número total de avaliações foi corretamente recuperado e apresentado.\n"
      ],
      "metadata": {
        "id": "b4sgEg1cwno_"
      }
    },
    {
      "cell_type": "code",
      "source": [
        "df.shape"
      ],
      "metadata": {
        "colab": {
          "base_uri": "https://localhost:8080/"
        },
        "id": "hBi9b3mPuOGU",
        "outputId": "8a13c07d-cdc7-4409-9357-f4697f771f7b"
      },
      "execution_count": 35,
      "outputs": [
        {
          "output_type": "execute_result",
          "data": {
            "text/plain": [
              "(10000, 11)"
            ]
          },
          "metadata": {},
          "execution_count": 35
        }
      ]
    },
    {
      "cell_type": "code",
      "source": [
        "print(df.head(10))"
      ],
      "metadata": {
        "colab": {
          "base_uri": "https://localhost:8080/"
        },
        "id": "rmi06gZEtfGN",
        "outputId": "14a16080-a8b7-4052-e631-9b3216200d03"
      },
      "execution_count": 36,
      "outputs": [
        {
          "output_type": "stream",
          "name": "stdout",
          "text": [
            "                               reviewId           userName  \\\n",
            "0  92ca8449-0750-4469-82fa-55a2b806dd6a    Colleen O'Neill   \n",
            "1  6a202908-db67-45b5-a82a-585f29911944              Dylan   \n",
            "2  aefaa28c-93e2-405b-9974-8d040567c427  Drucilla Earnesty   \n",
            "3  26162958-f59a-46bc-a0d8-f4d7eaa7b2ec     Mark Ackermann   \n",
            "4  ea42fd61-6d69-4183-aff1-515f73957965     Eleanor Gentry   \n",
            "5  949e42be-b290-4bbd-967d-06bb55b5c0e3    Jackie Anderson   \n",
            "6  79ce10cb-a685-49b2-bc20-6122e5139350        Kayla Funke   \n",
            "7  7ee46f5c-dc38-448b-8006-bafe50e2511b     Eli Shingleton   \n",
            "8  4783b5a8-9d44-4357-96fb-65bbb8797966   E (livelyfellow)   \n",
            "9  3ef3eb24-70e7-4a4c-a6e8-7ad4e494f695           bigclown   \n",
            "\n",
            "                                           userImage  \\\n",
            "0  https://play-lh.googleusercontent.com/a/ACg8oc...   \n",
            "1  https://play-lh.googleusercontent.com/a/ACg8oc...   \n",
            "2  https://play-lh.googleusercontent.com/a/ACg8oc...   \n",
            "3  https://play-lh.googleusercontent.com/a-/ALV-U...   \n",
            "4  https://play-lh.googleusercontent.com/a-/ALV-U...   \n",
            "5  https://play-lh.googleusercontent.com/a/ACg8oc...   \n",
            "6  https://play-lh.googleusercontent.com/a-/ALV-U...   \n",
            "7  https://play-lh.googleusercontent.com/a-/ALV-U...   \n",
            "8  https://play-lh.googleusercontent.com/a/ACg8oc...   \n",
            "9  https://play-lh.googleusercontent.com/a-/ALV-U...   \n",
            "\n",
            "                                             content  score  thumbsUpCount  \\\n",
            "0  Very frustrating lately. Most issues seem to b...      2           7913   \n",
            "1  For being a PICUTRE/VIDEO app, you think it'd ...      1           7500   \n",
            "2  The app used to work perfectly fine, but for t...      1           7205   \n",
            "3  After more than a decade, this app still has b...      1           2838   \n",
            "4  I hate the auto scroll. Each of my accounts on...      2           4790   \n",
            "5  I've lost the ability to make a draft of a reg...      2          11219   \n",
            "6  There is a bug where reels will stop playing 1...      1           2032   \n",
            "7  I've been using this app everyday for a decade...      1           5024   \n",
            "8  The app keeps crashing while I was trying to e...      1           1141   \n",
            "9  Been using the app for a long time now, but la...      1           1219   \n",
            "\n",
            "  reviewCreatedVersion                  at replyContent repliedAt  \\\n",
            "0       300.0.0.29.110 2023-09-14 02:11:16         None      None   \n",
            "1       299.0.0.34.111 2023-09-15 22:53:40         None      None   \n",
            "2       297.0.0.33.109 2023-08-24 18:00:19         None      None   \n",
            "3       298.0.0.31.110 2023-09-02 19:41:23         None      None   \n",
            "4       297.0.0.33.109 2023-08-28 20:48:15         None      None   \n",
            "5       303.0.0.40.109 2023-10-10 17:15:29         None      None   \n",
            "6       297.0.0.33.109 2023-08-29 22:04:11         None      None   \n",
            "7       300.0.0.29.110 2023-09-18 05:58:58         None      None   \n",
            "8       301.1.0.33.110 2023-09-23 17:32:44         None      None   \n",
            "9       300.0.0.29.110 2023-09-18 17:56:48         None      None   \n",
            "\n",
            "       appVersion  \n",
            "0  300.0.0.29.110  \n",
            "1  299.0.0.34.111  \n",
            "2  297.0.0.33.109  \n",
            "3  298.0.0.31.110  \n",
            "4  297.0.0.33.109  \n",
            "5  303.0.0.40.109  \n",
            "6  297.0.0.33.109  \n",
            "7  300.0.0.29.110  \n",
            "8  301.1.0.33.110  \n",
            "9  300.0.0.29.110  \n"
          ]
        }
      ]
    },
    {
      "cell_type": "markdown",
      "source": [
        "# Verificando se as respostas dos desenvolvedores na coluna replyContent estão com ausência de valor"
      ],
      "metadata": {
        "id": "-Uitb0Bu5RT3"
      }
    },
    {
      "cell_type": "code",
      "source": [
        "todos_none = df['replyContent'].isna().all()\n"
      ],
      "metadata": {
        "id": "RAGJVz1Q5E07"
      },
      "execution_count": 37,
      "outputs": []
    },
    {
      "cell_type": "code",
      "source": [
        "print(\"Todos os valores em 'replyContent' são None ?\", todos_none)"
      ],
      "metadata": {
        "colab": {
          "base_uri": "https://localhost:8080/"
        },
        "id": "A-540fBk5L2f",
        "outputId": "4100d8f7-cf4d-4dcd-b99d-5c452da216e9"
      },
      "execution_count": 38,
      "outputs": [
        {
          "output_type": "stream",
          "name": "stdout",
          "text": [
            "Todos os valores em 'replyContent' são None ? True\n"
          ]
        }
      ]
    },
    {
      "cell_type": "markdown",
      "source": [
        "Após realizar essa verificação ,constatei que a coluna que contêm as respostas dos desenvolvedores está com ausência de valor , o que acaba tornando ela sem utilidade para fins de análise de dados  , por esse motivo irei remover essa coluna do dataframe para que seja possível um foco maior na informações relevantes ."
      ],
      "metadata": {
        "id": "dJB6jmtLHLpJ"
      }
    },
    {
      "cell_type": "code",
      "source": [
        "df = df.drop(columns=['replyContent'])\n"
      ],
      "metadata": {
        "id": "D7HOYvqOGgux"
      },
      "execution_count": 39,
      "outputs": []
    },
    {
      "cell_type": "markdown",
      "source": [
        "# Vizualizando modificações"
      ],
      "metadata": {
        "id": "eV3RY3a0NlHM"
      }
    },
    {
      "cell_type": "code",
      "source": [
        "print(df.head(10))"
      ],
      "metadata": {
        "colab": {
          "base_uri": "https://localhost:8080/"
        },
        "id": "o8YZYXw4GjMq",
        "outputId": "3833deaa-a1b8-41c0-9de3-c2557bcc2497"
      },
      "execution_count": 40,
      "outputs": [
        {
          "output_type": "stream",
          "name": "stdout",
          "text": [
            "                               reviewId           userName  \\\n",
            "0  92ca8449-0750-4469-82fa-55a2b806dd6a    Colleen O'Neill   \n",
            "1  6a202908-db67-45b5-a82a-585f29911944              Dylan   \n",
            "2  aefaa28c-93e2-405b-9974-8d040567c427  Drucilla Earnesty   \n",
            "3  26162958-f59a-46bc-a0d8-f4d7eaa7b2ec     Mark Ackermann   \n",
            "4  ea42fd61-6d69-4183-aff1-515f73957965     Eleanor Gentry   \n",
            "5  949e42be-b290-4bbd-967d-06bb55b5c0e3    Jackie Anderson   \n",
            "6  79ce10cb-a685-49b2-bc20-6122e5139350        Kayla Funke   \n",
            "7  7ee46f5c-dc38-448b-8006-bafe50e2511b     Eli Shingleton   \n",
            "8  4783b5a8-9d44-4357-96fb-65bbb8797966   E (livelyfellow)   \n",
            "9  3ef3eb24-70e7-4a4c-a6e8-7ad4e494f695           bigclown   \n",
            "\n",
            "                                           userImage  \\\n",
            "0  https://play-lh.googleusercontent.com/a/ACg8oc...   \n",
            "1  https://play-lh.googleusercontent.com/a/ACg8oc...   \n",
            "2  https://play-lh.googleusercontent.com/a/ACg8oc...   \n",
            "3  https://play-lh.googleusercontent.com/a-/ALV-U...   \n",
            "4  https://play-lh.googleusercontent.com/a-/ALV-U...   \n",
            "5  https://play-lh.googleusercontent.com/a/ACg8oc...   \n",
            "6  https://play-lh.googleusercontent.com/a-/ALV-U...   \n",
            "7  https://play-lh.googleusercontent.com/a-/ALV-U...   \n",
            "8  https://play-lh.googleusercontent.com/a/ACg8oc...   \n",
            "9  https://play-lh.googleusercontent.com/a-/ALV-U...   \n",
            "\n",
            "                                             content  score  thumbsUpCount  \\\n",
            "0  Very frustrating lately. Most issues seem to b...      2           7913   \n",
            "1  For being a PICUTRE/VIDEO app, you think it'd ...      1           7500   \n",
            "2  The app used to work perfectly fine, but for t...      1           7205   \n",
            "3  After more than a decade, this app still has b...      1           2838   \n",
            "4  I hate the auto scroll. Each of my accounts on...      2           4790   \n",
            "5  I've lost the ability to make a draft of a reg...      2          11219   \n",
            "6  There is a bug where reels will stop playing 1...      1           2032   \n",
            "7  I've been using this app everyday for a decade...      1           5024   \n",
            "8  The app keeps crashing while I was trying to e...      1           1141   \n",
            "9  Been using the app for a long time now, but la...      1           1219   \n",
            "\n",
            "  reviewCreatedVersion                  at repliedAt      appVersion  \n",
            "0       300.0.0.29.110 2023-09-14 02:11:16      None  300.0.0.29.110  \n",
            "1       299.0.0.34.111 2023-09-15 22:53:40      None  299.0.0.34.111  \n",
            "2       297.0.0.33.109 2023-08-24 18:00:19      None  297.0.0.33.109  \n",
            "3       298.0.0.31.110 2023-09-02 19:41:23      None  298.0.0.31.110  \n",
            "4       297.0.0.33.109 2023-08-28 20:48:15      None  297.0.0.33.109  \n",
            "5       303.0.0.40.109 2023-10-10 17:15:29      None  303.0.0.40.109  \n",
            "6       297.0.0.33.109 2023-08-29 22:04:11      None  297.0.0.33.109  \n",
            "7       300.0.0.29.110 2023-09-18 05:58:58      None  300.0.0.29.110  \n",
            "8       301.1.0.33.110 2023-09-23 17:32:44      None  301.1.0.33.110  \n",
            "9       300.0.0.29.110 2023-09-18 17:56:48      None  300.0.0.29.110  \n"
          ]
        }
      ]
    },
    {
      "cell_type": "markdown",
      "source": [
        "# Criando uma nova coluna 'etl_timestamp' com a data e hora atuais no formato 'YYYY-MM-DD HH:MM:SS'.\n"
      ],
      "metadata": {
        "id": "dP55CekFu7IL"
      }
    },
    {
      "cell_type": "code",
      "source": [
        "df['etl_timestamp'] = datetime.now().strftime('%Y-%m-%d %H:%M:%S')"
      ],
      "metadata": {
        "id": "-MzVZ87vunG9"
      },
      "execution_count": 41,
      "outputs": []
    },
    {
      "cell_type": "markdown",
      "source": [
        "# Convertendo a coluna 'etl_timestamp' para o formato datetime64[ns].\n"
      ],
      "metadata": {
        "id": "X4i6F5k7wvfM"
      }
    },
    {
      "cell_type": "code",
      "source": [
        "df['etl_timestamp'] = pd.to_datetime(df['etl_timestamp'])"
      ],
      "metadata": {
        "id": "hn0sfak6urw6"
      },
      "execution_count": 42,
      "outputs": []
    },
    {
      "cell_type": "markdown",
      "source": [
        "# Checando se o formato foi alterado para datetime64[ns]"
      ],
      "metadata": {
        "id": "t2fOZeY9MaM_"
      }
    },
    {
      "cell_type": "code",
      "source": [
        "print(df.info())"
      ],
      "metadata": {
        "colab": {
          "base_uri": "https://localhost:8080/"
        },
        "id": "VeLV67mbLvH3",
        "outputId": "1cf9c271-35e7-424d-8597-4a110262c698"
      },
      "execution_count": 43,
      "outputs": [
        {
          "output_type": "stream",
          "name": "stdout",
          "text": [
            "<class 'pandas.core.frame.DataFrame'>\n",
            "RangeIndex: 10000 entries, 0 to 9999\n",
            "Data columns (total 11 columns):\n",
            " #   Column                Non-Null Count  Dtype         \n",
            "---  ------                --------------  -----         \n",
            " 0   reviewId              10000 non-null  object        \n",
            " 1   userName              10000 non-null  object        \n",
            " 2   userImage             10000 non-null  object        \n",
            " 3   content               10000 non-null  object        \n",
            " 4   score                 10000 non-null  int64         \n",
            " 5   thumbsUpCount         10000 non-null  int64         \n",
            " 6   reviewCreatedVersion  9971 non-null   object        \n",
            " 7   at                    10000 non-null  datetime64[ns]\n",
            " 8   repliedAt             0 non-null      object        \n",
            " 9   appVersion            9971 non-null   object        \n",
            " 10  etl_timestamp         10000 non-null  datetime64[ns]\n",
            "dtypes: datetime64[ns](2), int64(2), object(7)\n",
            "memory usage: 859.5+ KB\n",
            "None\n"
          ]
        }
      ]
    },
    {
      "cell_type": "markdown",
      "source": [
        "# Vizualizando novamente as avaliações após as alterações"
      ],
      "metadata": {
        "id": "P6zThDRMxGFV"
      }
    },
    {
      "cell_type": "code",
      "source": [
        "print(df.head())"
      ],
      "metadata": {
        "colab": {
          "base_uri": "https://localhost:8080/"
        },
        "id": "M6kE8Ce9uvor",
        "outputId": "6a126765-c490-45da-9bbb-3853dbc05cac"
      },
      "execution_count": 44,
      "outputs": [
        {
          "output_type": "stream",
          "name": "stdout",
          "text": [
            "                               reviewId           userName  \\\n",
            "0  92ca8449-0750-4469-82fa-55a2b806dd6a    Colleen O'Neill   \n",
            "1  6a202908-db67-45b5-a82a-585f29911944              Dylan   \n",
            "2  aefaa28c-93e2-405b-9974-8d040567c427  Drucilla Earnesty   \n",
            "3  26162958-f59a-46bc-a0d8-f4d7eaa7b2ec     Mark Ackermann   \n",
            "4  ea42fd61-6d69-4183-aff1-515f73957965     Eleanor Gentry   \n",
            "\n",
            "                                           userImage  \\\n",
            "0  https://play-lh.googleusercontent.com/a/ACg8oc...   \n",
            "1  https://play-lh.googleusercontent.com/a/ACg8oc...   \n",
            "2  https://play-lh.googleusercontent.com/a/ACg8oc...   \n",
            "3  https://play-lh.googleusercontent.com/a-/ALV-U...   \n",
            "4  https://play-lh.googleusercontent.com/a-/ALV-U...   \n",
            "\n",
            "                                             content  score  thumbsUpCount  \\\n",
            "0  Very frustrating lately. Most issues seem to b...      2           7913   \n",
            "1  For being a PICUTRE/VIDEO app, you think it'd ...      1           7500   \n",
            "2  The app used to work perfectly fine, but for t...      1           7205   \n",
            "3  After more than a decade, this app still has b...      1           2838   \n",
            "4  I hate the auto scroll. Each of my accounts on...      2           4790   \n",
            "\n",
            "  reviewCreatedVersion                  at repliedAt      appVersion  \\\n",
            "0       300.0.0.29.110 2023-09-14 02:11:16      None  300.0.0.29.110   \n",
            "1       299.0.0.34.111 2023-09-15 22:53:40      None  299.0.0.34.111   \n",
            "2       297.0.0.33.109 2023-08-24 18:00:19      None  297.0.0.33.109   \n",
            "3       298.0.0.31.110 2023-09-02 19:41:23      None  298.0.0.31.110   \n",
            "4       297.0.0.33.109 2023-08-28 20:48:15      None  297.0.0.33.109   \n",
            "\n",
            "        etl_timestamp  \n",
            "0 2023-11-12 00:32:44  \n",
            "1 2023-11-12 00:32:44  \n",
            "2 2023-11-12 00:32:44  \n",
            "3 2023-11-12 00:32:44  \n",
            "4 2023-11-12 00:32:44  \n"
          ]
        }
      ]
    },
    {
      "cell_type": "markdown",
      "source": [
        "# Salvando o dataframe alterado em um arquivo Json"
      ],
      "metadata": {
        "id": "n2YYoVbr6wXO"
      }
    },
    {
      "cell_type": "code",
      "source": [
        "arquivo_json = 'dataframe_alterado.json'\n",
        "df.to_json(arquivo_json, orient='records', lines=True)\n",
        "print(f\"DataFrame salvo com o nome '{arquivo_json}'\")"
      ],
      "metadata": {
        "colab": {
          "base_uri": "https://localhost:8080/"
        },
        "id": "w85JKnqM7dVC",
        "outputId": "6613b2b9-df71-428b-ceae-380da4f0ca94"
      },
      "execution_count": 45,
      "outputs": [
        {
          "output_type": "stream",
          "name": "stdout",
          "text": [
            "DataFrame salvo com o nome 'dataframe_alterado.json'\n"
          ]
        }
      ]
    },
    {
      "cell_type": "markdown",
      "source": [
        "# Desafio Especial :\n",
        "\n",
        "Uma boa idéia seria a de implementar um buffer temporário para armazenar dados recebidos. Em vez de escrever diretamente no DataFrame final, os dados seriam primeiro armazenados neste buffer.\n",
        "E periodicamente, ou após receber uma certa quantidade de dados, esses dados seriam transferidos para o DataFrame  principal. Isso ajudaria a garantir que mesmo dados parcialmente recebidos sejam armazenados e processados posteriormente.\n",
        "Alinhado a isso seria ideal usar um marcador específico para indicar o final de uma linha ou registro. Isso poderia ajudar a identificar se a última linha recebida está completa ou não.\n",
        "Se a linha final não terminar com o marcador esperado, ai manteria no buffer até que o restante da linha fosse recebida."
      ],
      "metadata": {
        "id": "_hMN0cITOlAQ"
      }
    }
  ]
}